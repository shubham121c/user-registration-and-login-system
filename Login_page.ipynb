{
  "nbformat": 4,
  "nbformat_minor": 0,
  "metadata": {
    "colab": {
      "provenance": []
    },
    "kernelspec": {
      "name": "python3",
      "display_name": "Python 3"
    },
    "language_info": {
      "name": "python"
    }
  },
  "cells": [
    {
      "cell_type": "code",
      "execution_count": null,
      "metadata": {
        "colab": {
          "base_uri": "https://localhost:8080/"
        },
        "id": "paJnF3p7I9g0",
        "outputId": "7510cc9e-d5dd-44f9-c217-7b49cc73a813"
      },
      "outputs": [
        {
          "output_type": "stream",
          "name": "stdout",
          "text": [
            "Enter 1 to Register or enter 2 to loggin\n",
            "1\n",
            "To Register please input email id and password\n",
            "NOTE: password should contain atleast one lowercase, one uppercase, one digit and one special character\n",
            "Email id: zxc@vbn.com\n",
            "Password: $5Wert\n",
            "dic:\n",
            "{'abc@gmail.com': 'abc', 'zxc@vbn.com': '$5Wert'}\n",
            "Registration success!!\n"
          ]
        }
      ],
      "source": [
        "el=[\"abc@gmail.com\"]\n",
        "p=[\"abc\"]\n",
        "dic={\"abc@gmail.com\":\"abc\"}\n",
        "def dashbord():\n",
        " \n",
        "  print(\"Enter 1 to Register or enter 2 to loggin\")\n",
        "  choice= int(input())\n",
        "  if choice==1:\n",
        "    register()\n",
        "  elif choice==2:\n",
        "    loggin()\n",
        "  else:\n",
        "    print(\"invalid entry, please enter your choice again\")\n",
        "    dashbord()\n",
        "\n",
        "# register function starts\n",
        "\n",
        "def register():\n",
        "  \n",
        "  import re\n",
        "  print(\"To Register please input email id and password\")\n",
        "  print(\"NOTE: password should contain atleast one lowercase, one uppercase, one digit and one special character\")\n",
        "  email=input(\"Email id: \")\n",
        "  \n",
        "#email pattern checking\n",
        "\n",
        "  email_check=re.compile(\"\\A[a-zA-z]+[a-zA-Z0-9\\_]+@+[a-zA-z]+\\.+[a-zA-z]+\")\n",
        "  email_ans=email_check.findall(email)\n",
        "\n",
        "  if(email_ans):\n",
        "    pass\n",
        "      # email is valid\n",
        "  else:\n",
        "    print(\"inavlid email!/email id alredy exsist, please enter valid email\")\n",
        "    print(email_ans)\n",
        "    register()\n",
        "\n",
        "# email availablity checking\n",
        "  if email in el:\n",
        "    print(\"duplicate\")\n",
        "    register()\n",
        "  else:\n",
        "    el.append(email)\n",
        "\n",
        "#password pattern checking\n",
        "\n",
        "  password=input(\"Password: \")\n",
        "  Pattern= re.compile(\"^.*(?=.{5,})(?=.*\\d)(?=.*[a-z])(?=.*[A-Z])(?=.*[@#$%^&+=]).*$\")\n",
        "  password_ans=Pattern.findall(password)\n",
        "\n",
        "  if (password_ans):\n",
        "    p.append(password)\n",
        "    dic[email]=password\n",
        "    print(\"dic:\")\n",
        "    print(dic)\n",
        "    print(\"Registration success!!\")\n",
        "    \n",
        "    # instert data in file and creating a list to store email and password\n",
        "\n",
        "    file= open(\"/content/database1.txt\", \"a\") \n",
        "    file.write(email+\",\"+ password+\"/n\")\n",
        "    file.close()\n",
        "    #file= open(\"/database1.txt\", \"r\") \n",
        "\n",
        "    #for i in file:\n",
        "      #l = i.split(\",\")\n",
        "      # a=a.strip()\n",
        "      # b = b.strip()\n",
        "      # el.append(a)\n",
        "      # p.append(b)\n",
        "      #data= dict(zip(el,p))\n",
        "\n",
        "      #print(data)\n",
        "  \n",
        "  else:\n",
        "    print(\"invalid password\")\n",
        "  \n",
        "    register()\n",
        "\n",
        "  \n",
        "# loggin function starts  \n",
        "\n",
        "def loggin():\n",
        "  print(\"enter registerd email id and password\")\n",
        "  email=input(\"Email id: \")\n",
        "\n",
        "  if email in el:\n",
        "    print( \"hi!!\" )\n",
        "\n",
        "    password= input(\"password: \")\n",
        "    if password in p:\n",
        "      print(\"loggin success!! welcome back mr smarty pants\")\n",
        "    else:\n",
        "      print(\"invalid password\")\n",
        "\n",
        "      print(\"enter L to loggin or F to Retrive the password\")\n",
        "    \n",
        "      fpassword=input(\"input your choice L or F: \").strip()\n",
        "      if fpassword== (\"L\" or \"l\"):\n",
        "        loggin()\n",
        "      elif fpassword==(\"F\" or \"f\"):\n",
        "        print(\"Your password is :\")\n",
        "        print(dic[email])\n",
        "        \n",
        "\n",
        "  else:\n",
        "    print(\"please enter registed email to login or input 1 to register\")\n",
        "    dashbord()\n",
        "\n",
        "# forgot password\n",
        "  \n",
        "dashbord()\n"
      ]
    },
    {
      "cell_type": "code",
      "source": [
        "from google.colab import drive\n",
        "drive.mount('/content/drive')"
      ],
      "metadata": {
        "id": "UpUbTy4Z1kVp"
      },
      "execution_count": null,
      "outputs": []
    },
    {
      "cell_type": "markdown",
      "source": [],
      "metadata": {
        "id": "IEM4BW0JbXnN"
      }
    }
  ]
}